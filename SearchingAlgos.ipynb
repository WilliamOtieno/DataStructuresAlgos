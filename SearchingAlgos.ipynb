{
 "cells": [
  {
   "cell_type": "markdown",
   "metadata": {},
   "source": [
    "## Searching Algorithms"
   ]
  },
  {
   "cell_type": "code",
   "execution_count": 1,
   "metadata": {},
   "outputs": [
    {
     "name": "stdout",
     "output_type": "stream",
     "text": [
      "Key is present in the given list at index 3\n"
     ]
    }
   ],
   "source": [
    "# Linear Search\n",
    "\n",
    "def lin_search(myarray, n, key):\n",
    "    for x in range(0, n):\n",
    "        if (myarray[x] == key):\n",
    "            return x\n",
    "    return -1\n",
    "\n",
    "myarray = [12, 1, 34, 17]\n",
    "key = 17\n",
    "n = len(myarray)\n",
    "matched = lin_search(myarray, n, key)\n",
    "if(matched == -1):\n",
    "    print(\"Key is not present\")\n",
    "else:\n",
    "    print(\"Key is present in the given list at index\", matched)"
   ]
  },
  {
   "cell_type": "code",
   "execution_count": null,
   "metadata": {},
   "outputs": [
    {
     "name": "stdout",
     "output_type": "stream",
     "text": [
      "True\n"
     ]
    }
   ],
   "source": [
    "# Binary Search\n",
    "\n",
    "def bin_search(mylist, key):\n",
    "    l = 0 \n",
    "    r = len(mylist) - 1\n",
    "    matched = False\n",
    "    while (l <= r and not matched):\n",
    "        middle = (l + r) // 2\n",
    "        if mylist[middle] == key:\n",
    "            matched = True\n",
    "        else:\n",
    "            if key < mylist[middle]:\n",
    "                r = middle - 1\n",
    "            else:\n",
    "                l = middle - 1\n",
    "    return matched\n",
    "print(bin_search([2, 3, 56, 13, 1], 56))\n",
    "print(bin_search([2, 3, 56, 13, 1], 26))"
   ]
  },
  {
   "cell_type": "code",
   "execution_count": null,
   "metadata": {},
   "outputs": [],
   "source": []
  }
 ],
 "metadata": {
  "kernelspec": {
   "display_name": "Python 3",
   "language": "python",
   "name": "python3"
  },
  "language_info": {
   "codemirror_mode": {
    "name": "ipython",
    "version": 3
   },
   "file_extension": ".py",
   "mimetype": "text/x-python",
   "name": "python",
   "nbconvert_exporter": "python",
   "pygments_lexer": "ipython3",
   "version": "3.8.5"
  }
 },
 "nbformat": 4,
 "nbformat_minor": 4
}
