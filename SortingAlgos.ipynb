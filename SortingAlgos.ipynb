{
 "cells": [
  {
   "cell_type": "markdown",
   "metadata": {},
   "source": [
    "## Sorting Algorithms"
   ]
  },
  {
   "cell_type": "code",
   "execution_count": 1,
   "metadata": {},
   "outputs": [
    {
     "name": "stdout",
     "output_type": "stream",
     "text": [
      "Enter the list values to be sorted: 5 27 26 11 79 20\n",
      "The sorted list is: \n",
      "[5, 11, 20, 26, 27, 79]\n"
     ]
    }
   ],
   "source": [
    "# Merge Sort\n",
    "\n",
    "def msort(mylist, left, right):\n",
    "    if right - left > 1:\n",
    "        middle = (left + right) // 2\n",
    "        msort(mylist, left, middle)\n",
    "        msort(mylist, middle, right)\n",
    "        mlist(mylist, left, middle, right)\n",
    "\n",
    "def mlist(mylist, left, middle, right):\n",
    "    leftlist = mylist[left:middle]\n",
    "    rightlist = mylist[middle:right]\n",
    "    k = left\n",
    "    i = 0\n",
    "    j = 0\n",
    "    while (left + i < middle and middle + j < right):\n",
    "        if (leftlist[i] <= rightlist[j]):\n",
    "            mylist[k] = leftlist[i]\n",
    "            i = i + 1\n",
    "        else:\n",
    "            mylist[k] = rightlist[j]\n",
    "            j = j + 1\n",
    "        k = k + 1\n",
    "    if left + i < middle:\n",
    "        while k < right:\n",
    "            mylist[k] = leftlist[i]\n",
    "            i = i + 1\n",
    "            k = k + 1\n",
    "    else:\n",
    "        while k < right:\n",
    "            mylist[k] = rightlist[j]\n",
    "            j = j + 1\n",
    "            k = k + 1\n",
    "\n",
    "mylist = input(\"Enter the list values to be sorted: \").split()\n",
    "mylist = [int(x) for x in mylist]\n",
    "msort(mylist, 0, len(mylist))\n",
    "print(\"The sorted list is: \")\n",
    "print(mylist)"
   ]
  },
  {
   "cell_type": "code",
   "execution_count": 2,
   "metadata": {},
   "outputs": [
    {
     "data": {
      "text/plain": [
       "[2, 3, 5, 6, 8]"
      ]
     },
     "execution_count": 2,
     "metadata": {},
     "output_type": "execute_result"
    }
   ],
   "source": [
    "# Bubble Sort\n",
    "\n",
    "def bs(a):\n",
    "    b = len(a) - 1\n",
    "    for x in range(b):\n",
    "        for y in range(b - x):\n",
    "            if a[y] > a[y+1]:\n",
    "                a[y], a[y + 1] = a[y + 1], a[y]\n",
    "    return a\n",
    "\n",
    "a = [3, 6 ,8 , 2, 5]\n",
    "bs(a)"
   ]
  },
  {
   "cell_type": "code",
   "execution_count": 3,
   "metadata": {},
   "outputs": [
    {
     "name": "stdout",
     "output_type": "stream",
     "text": [
      "[1, 16, 24, 50, 56]\n"
     ]
    }
   ],
   "source": [
    "# Insertion Sort\n",
    "\n",
    "def isort(a):\n",
    "    for x in range(1, len(a)):\n",
    "        k = a[x]\n",
    "        j = x - 1\n",
    "        while j >= 0 and k < a[j]:\n",
    "            a[j + 1] = a[j]\n",
    "            j -= 1\n",
    "        a[j + 1] = k\n",
    "a = [24, 56, 1, 50 ,16]\n",
    "isort(a)\n",
    "print(a)"
   ]
  },
  {
   "cell_type": "code",
   "execution_count": 4,
   "metadata": {},
   "outputs": [
    {
     "name": "stdout",
     "output_type": "stream",
     "text": [
      "[1, 4, 23, 34, 67]\n"
     ]
    }
   ],
   "source": [
    "# Selection Sort\n",
    "\n",
    "def selsort(myarray, r):\n",
    "    for x in range(r):\n",
    "        minimum = x\n",
    "        for y in range(x + 1, r):\n",
    "            if myarray[y] < myarray[minimum]:\n",
    "                minimum = y\n",
    "        (myarray[x], myarray[minimum]) = (myarray[minimum], myarray[x])\n",
    "mylist =  [34, 23, 1, 67, 4]\n",
    "r = len(mylist)\n",
    "selsort(mylist, r)\n",
    "print(mylist)"
   ]
  },
  {
   "cell_type": "code",
   "execution_count": null,
   "metadata": {},
   "outputs": [],
   "source": [
    "# Shell Sort\n",
    "\n",
    "def shsort(myarray, n):\n",
    "    g = n // 2\n",
    "    while g > e:\n",
    "        for x in range(g, n):\n",
    "            y = myarray[x]\n",
    "            z = x\n",
    "            while z >= g and myarray[z - g] > y:\n",
    "                myarray[z] = myarray[z - g]\n",
    "                z -= g\n",
    "            myarray[z] = y\n",
    "        g //= 2\n",
    "mylist = [23, 12, 4, 45, 5, 23]\n",
    "length = len(mylist)\n",
    "shsort(mylis)"
   ]
  }
 ],
 "metadata": {
  "kernelspec": {
   "display_name": "Python 3",
   "language": "python",
   "name": "python3"
  },
  "language_info": {
   "codemirror_mode": {
    "name": "ipython",
    "version": 3
   },
   "file_extension": ".py",
   "mimetype": "text/x-python",
   "name": "python",
   "nbconvert_exporter": "python",
   "pygments_lexer": "ipython3",
   "version": "3.8.5"
  }
 },
 "nbformat": 4,
 "nbformat_minor": 4
}
