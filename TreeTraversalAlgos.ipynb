{
 "cells": [
  {
   "cell_type": "markdown",
   "metadata": {},
   "source": [
    "## Tree Traversal Algorithms"
   ]
  },
  {
   "cell_type": "code",
   "execution_count": 1,
   "metadata": {},
   "outputs": [],
   "source": [
    "# Creating a Node Clss\n",
    "\n",
    "class Node:\n",
    "    def __init__(self, val):\n",
    "        self.childLeft = None\n",
    "        self.childRight = None\n",
    "        self.nodedata = val\n",
    "\n",
    "\n",
    "root = Node(1)\n",
    "root.childLeft = Node(2)\n",
    "root.childRight = Node(3)\n",
    "root.childLeft.childLeft = Node(4)\n",
    "root.childLeft.childRight = Node(5)"
   ]
  },
  {
   "cell_type": "code",
   "execution_count": 2,
   "metadata": {},
   "outputs": [
    {
     "name": "stdout",
     "output_type": "stream",
     "text": [
      "4\n",
      "2\n",
      "5\n",
      "1\n",
      "3\n"
     ]
    }
   ],
   "source": [
    "# In Order Traversal\n",
    "# Left --> Root --> Right\n",
    "\n",
    "def InOrd(root):\n",
    "    if root:\n",
    "        InOrd(root.childLeft)\n",
    "        print(root.nodedata)\n",
    "        InOrd(root.childRight)\n",
    "InOrd(root)"
   ]
  },
  {
   "cell_type": "code",
   "execution_count": 3,
   "metadata": {},
   "outputs": [
    {
     "name": "stdout",
     "output_type": "stream",
     "text": [
      "1\n",
      "2\n",
      "4\n",
      "5\n",
      "3\n"
     ]
    }
   ],
   "source": [
    "# Pre Order Traversal\n",
    "# Root --> Left --> Right\n",
    "\n",
    "def PreOrd(root):\n",
    "    if root:\n",
    "        print(root.nodedata)\n",
    "        PreOrd(root.childLeft)\n",
    "        PreOrd(root.childRight)\n",
    "PreOrd(root)"
   ]
  },
  {
   "cell_type": "code",
   "execution_count": 4,
   "metadata": {},
   "outputs": [
    {
     "name": "stdout",
     "output_type": "stream",
     "text": [
      "4\n",
      "5\n",
      "2\n",
      "3\n",
      "1\n"
     ]
    }
   ],
   "source": [
    "# Post Order Traversal\n",
    "# Left --> Right --> Root\n",
    "\n",
    "def PostOrd(root):\n",
    "    if root:\n",
    "        PostOrd(root.childLeft)\n",
    "        PostOrd(root.childRight)\n",
    "        print(root.nodedata)\n",
    "PostOrd(root)"
   ]
  },
  {
   "cell_type": "code",
   "execution_count": null,
   "metadata": {},
   "outputs": [],
   "source": []
  }
 ],
 "metadata": {
  "kernelspec": {
   "display_name": "Python 3",
   "language": "python",
   "name": "python3"
  },
  "language_info": {
   "codemirror_mode": {
    "name": "ipython",
    "version": 3
   },
   "file_extension": ".py",
   "mimetype": "text/x-python",
   "name": "python",
   "nbconvert_exporter": "python",
   "pygments_lexer": "ipython3",
   "version": "3.8.5"
  }
 },
 "nbformat": 4,
 "nbformat_minor": 4
}
